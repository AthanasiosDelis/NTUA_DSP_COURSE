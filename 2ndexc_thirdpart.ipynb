{
 "cells": [
  {
   "cell_type": "code",
   "execution_count": 3,
   "metadata": {},
   "outputs": [],
   "source": [
    "import numpy as np\n",
    "import scipy as sp\n",
    "import librosa\n",
    "import matplotlib.pyplot as plt\n",
    "import pywt\n",
    "import sounddevice as sd\n",
    "import os"
   ]
  },
  {
   "cell_type": "code",
   "execution_count": 28,
   "metadata": {},
   "outputs": [],
   "source": [
    "\n",
    "y = np.load('sleep_00.npz')\n",
    "y_sl0_acc1=y['acc'][:,0]\n",
    "y_sl0_acc2=y['acc'][:,1]\n",
    "y_sl0_acc3=y['acc'][:,2]\n",
    "y_sl0_gyr1=y['gyr'][:,0]\n",
    "y_sl0_gyr2=y['gyr'][:,1]\n",
    "y_sl0_gyr3=y['gyr'][:,2]\n",
    "y_sl0_hrm=y['hrm']\n",
    "y = np.load('sleep_01.npz')\n",
    "y_sl1_acc1=y['acc'][:,0]\n",
    "y_sl1_acc2=y['acc'][:,1]\n",
    "y_sl1_acc3=y['acc'][:,2]\n",
    "y_sl1_gyr1=y['gyr'][:,0]\n",
    "y_sl1_gyr2=y['gyr'][:,1]\n",
    "y_sl1_gyr3=y['gyr'][:,2]\n",
    "y = np.load('sleep_02.npz')\n",
    "y_sl2_acc1=y['acc'][:,0]\n",
    "y_sl2_acc2=y['acc'][:,1]\n",
    "y_sl2_acc3=y['acc'][:,2]\n",
    "y_sl2_gyr1=y['gyr'][:,0]\n",
    "y_sl2_gyr2=y['gyr'][:,1]\n",
    "y_sl2_gyr3=y['gyr'][:,2]\n",
    "y = np.load('sleep_03.npz')\n",
    "y_sl3_acc1=y['acc'][:,0]\n",
    "y_sl3_acc2=y['acc'][:,1]\n",
    "y_sl3_acc3=y['acc'][:,2]\n",
    "y_sl3_gyr1=y['gyr'][:,0]\n",
    "y_sl3_gyr2=y['gyr'][:,1]\n",
    "y_sl3_gyr3=y['gyr'][:,2]\n",
    "y = np.load('sleep_04.npz')\n",
    "y_sl4_acc1=y['acc'][:,0]\n",
    "y_sl4_acc2=y['acc'][:,1]\n",
    "y_sl4_acc3=y['acc'][:,2]\n",
    "y_sl4_gyr1=y['gyr'][:,0]\n",
    "y_sl4_gyr2=y['gyr'][:,1]\n",
    "y_sl4_gyr3=y['gyr'][:,2]\n",
    "y = np.load('sleep_05.npz')\n",
    "y_sl5_acc1=y['acc'][:,0]\n",
    "y_sl5_acc2=y['acc'][:,1]\n",
    "y_sl5_acc3=y['acc'][:,2]\n",
    "y_sl5_gyr1=y['gyr'][:,0]\n",
    "y_sl5_gyr2=y['gyr'][:,1]\n",
    "y_sl5_gyr3=y['gyr'][:,2]\n",
    "y = np.load('sleep_06.npz')\n",
    "y_sl6_acc1=y['acc'][:,0]\n",
    "y_sl6_acc2=y['acc'][:,1]\n",
    "y_sl6_acc3=y['acc'][:,2]\n",
    "y_sl6_gyr1=y['gyr'][:,0]\n",
    "y_sl6_gyr2=y['gyr'][:,1]\n",
    "y_sl6_gyr3=y['gyr'][:,2]\n",
    "y = np.load('sleep_07.npz')\n",
    "y_sl7_acc1=y['acc'][:,0]\n",
    "y_sl7_acc2=y['acc'][:,1]\n",
    "y_sl7_acc3=y['acc'][:,2]\n",
    "y_sl7_gyr1=y['gyr'][:,0]\n",
    "y_sl7_gyr2=y['gyr'][:,1]\n",
    "y_sl7_gyr3=y['gyr'][:,2]\n",
    "y = np.load('sleep_08.npz')\n",
    "y_sl8_acc1=y['acc'][:,0]\n",
    "y_sl8_acc2=y['acc'][:,1]\n",
    "y_sl8_acc3=y['acc'][:,2]\n",
    "y_sl8_gyr1=y['gyr'][:,0]\n",
    "y_sl8_gyr2=y['gyr'][:,1]\n",
    "y_sl8_gyr3=y['gyr'][:,2]\n",
    "y = np.load('sleep_09.npz')\n",
    "y_sl9_acc1=y['acc'][:,0]\n",
    "y_sl9_acc2=y['acc'][:,1]\n",
    "y_sl9_acc3=y['acc'][:,2]\n",
    "y_sl9_gyr1=y['gyr'][:,0]\n",
    "y_sl9_gyr2=y['gyr'][:,1]\n",
    "y_sl9_gyr3=y['gyr'][:,2]\n",
    "y = np.load('sleep_10.npz')\n",
    "y_sl10_acc1=y['acc'][:,0]\n",
    "y_sl10_acc2=y['acc'][:,1]\n",
    "y_sl10_acc3=y['acc'][:,2]\n",
    "y_sl10_gyr1=y['gyr'][:,0]\n",
    "y_sl10_gyr2=y['gyr'][:,1]\n",
    "y_sl10_gyr3=y['gyr'][:,2]\n",
    "y = np.load('sleep_11.npz')\n",
    "y_sl11_acc1=y['acc'][:,0]\n",
    "y_sl11_acc2=y['acc'][:,1]\n",
    "y_sl11_acc3=y['acc'][:,2]\n",
    "y_sl11_gyr1=y['gyr'][:,0]\n",
    "y_sl11_gyr2=y['gyr'][:,1]\n",
    "y_sl11_gyr3=y['gyr'][:,2]\n",
    "y = np.load('sleep_12.npz')\n",
    "y_sl12_acc1=y['acc'][:,0]\n",
    "y_sl12_acc2=y['acc'][:,1]\n",
    "y_sl12_acc3=y['acc'][:,2]\n",
    "y_sl12_gyr1=y['gyr'][:,0]\n",
    "y_sl12_gyr2=y['gyr'][:,1]\n",
    "y_sl12_gyr3=y['gyr'][:,2]\n",
    "y = np.load('sleep_13.npz')\n",
    "y_sl13_acc1=y['acc'][:,0]\n",
    "y_sl13_acc2=y['acc'][:,1]\n",
    "y_sl13_acc3=y['acc'][:,2]\n",
    "y_sl13_gyr1=y['gyr'][:,0]\n",
    "y_sl13_gyr2=y['gyr'][:,1]\n",
    "y_sl13_gyr3=y['gyr'][:,2]\n",
    "y = np.load('sleep_14.npz')\n",
    "y_sl14_acc1=y['acc'][:,0]\n",
    "y_sl14_acc2=y['acc'][:,1]\n",
    "y_sl14_acc3=y['acc'][:,2]\n",
    "y_sl14_gyr1=y['gyr'][:,0]\n",
    "y_sl14_gyr2=y['gyr'][:,1]\n",
    "y_sl14_gyr3=y['gyr'][:,2]\n",
    "y = np.load('sleep_15.npz')\n",
    "y_sl15_acc1=y['acc'][:,0]\n",
    "y_sl15_acc2=y['acc'][:,1]\n",
    "y_sl15_acc3=y['acc'][:,2]\n",
    "y_sl15_gyr1=y['gyr'][:,0]\n",
    "y_sl15_gyr2=y['gyr'][:,1]\n",
    "y_sl15_gyr3=y['gyr'][:,2]\n",
    "y = np.load('sleep_16.npz')\n",
    "y_sl16_acc1=y['acc'][:,0]\n",
    "y_sl16_acc2=y['acc'][:,1]\n",
    "y_sl16_acc3=y['acc'][:,2]\n",
    "y_sl16_gyr1=y['gyr'][:,0]\n",
    "y_sl16_gyr2=y['gyr'][:,1]\n",
    "y_sl16_gyr3=y['gyr'][:,2]\n",
    "y = np.load('sleep_17.npz')\n",
    "y_sl17_acc1=y['acc'][:,0]\n",
    "y_sl17_acc2=y['acc'][:,1]\n",
    "y_sl17_acc3=y['acc'][:,2]\n",
    "y_sl17_gyr1=y['gyr'][:,0]\n",
    "y_sl17_gyr2=y['gyr'][:,1]\n",
    "y_sl17_gyr3=y['gyr'][:,2]\n",
    "y = np.load('sleep_18.npz')\n",
    "y_sl18_acc1=y['acc'][:,0]\n",
    "y_sl18_acc2=y['acc'][:,1]\n",
    "y_sl18_acc3=y['acc'][:,2]\n",
    "y_sl18_gyr1=y['gyr'][:,0]\n",
    "y_sl18_gyr2=y['gyr'][:,1]\n",
    "y_sl18_gyr3=y['gyr'][:,2]\n",
    "y = np.load('sleep_19.npz')\n",
    "y_sl19_acc1=y['acc'][:,0]\n",
    "y_sl19_acc2=y['acc'][:,1]\n",
    "y_sl19_acc3=y['acc'][:,2]\n",
    "y_sl19_gyr1=y['gyr'][:,0]\n",
    "y_sl19_gyr2=y['gyr'][:,1]\n",
    "y_sl19_gyr3=y['gyr'][:,2]"
   ]
  },
  {
   "cell_type": "code",
   "execution_count": 29,
   "metadata": {},
   "outputs": [],
   "source": [
    "y = np.load('step_00.npz')\n",
    "y_st0_acc1=y['acc'][:,0]\n",
    "y_st0_acc2=y['acc'][:,1]\n",
    "y_st0_acc3=y['acc'][:,2]\n",
    "y_st0_gyr1=y['gyr'][:,0]\n",
    "y_st0_gyr2=y['gyr'][:,1]\n",
    "y_st0_gyr3=y['gyr'][:,2]\n",
    "y = np.load('step_01.npz')\n",
    "y_st1_acc1=y['acc'][:,0]\n",
    "y_st1_acc2=y['acc'][:,1]\n",
    "y_st1_acc3=y['acc'][:,2]\n",
    "y_st1_gyr1=y['gyr'][:,0]\n",
    "y_st1_gyr2=y['gyr'][:,1]\n",
    "y_st1_gyr3=y['gyr'][:,2]\n",
    "y = np.load('step_02.npz')\n",
    "y_st2_acc1=y['acc'][:,0]\n",
    "y_st2_acc2=y['acc'][:,1]\n",
    "y_st2_acc3=y['acc'][:,2]\n",
    "y_st2_gyr1=y['gyr'][:,0]\n",
    "y_st2_gyr2=y['gyr'][:,1]\n",
    "y_st2_gyr3=y['gyr'][:,2]\n",
    "y = np.load('step_03.npz')\n",
    "y_st3_acc1=y['acc'][:,0]\n",
    "y_st3_acc2=y['acc'][:,1]\n",
    "y_st3_acc3=y['acc'][:,2]\n",
    "y_st3_gyr1=y['gyr'][:,0]\n",
    "y_st3_gyr2=y['gyr'][:,1]\n",
    "y_st3_gyr3=y['gyr'][:,2]\n",
    "y = np.load('step_04.npz')\n",
    "y_st4_acc1=y['acc'][:,0]\n",
    "y_st4_acc2=y['acc'][:,1]\n",
    "y_st4_acc3=y['acc'][:,2]\n",
    "y_st4_gyr1=y['gyr'][:,0]\n",
    "y_st4_gyr2=y['gyr'][:,1]\n",
    "y_st4_gyr3=y['gyr'][:,2]\n",
    "y = np.load('step_05.npz')\n",
    "y_st5_acc1=y['acc'][:,0]\n",
    "y_st5_acc2=y['acc'][:,1]\n",
    "y_st5_acc3=y['acc'][:,2]\n",
    "y_st5_gyr1=y['gyr'][:,0]\n",
    "y_st5_gyr2=y['gyr'][:,1]\n",
    "y_st5_gyr3=y['gyr'][:,2]\n",
    "y = np.load('step_06.npz')\n",
    "y_st6_acc1=y['acc'][:,0]\n",
    "y_st6_acc2=y['acc'][:,1]\n",
    "y_st6_acc3=y['acc'][:,2]\n",
    "y_st6_gyr1=y['gyr'][:,0]\n",
    "y_st6_gyr2=y['gyr'][:,1]\n",
    "y_st6_gyr3=y['gyr'][:,2]\n",
    "y = np.load('step_07.npz')\n",
    "y_st7_acc1=y['acc'][:,0]\n",
    "y_st7_acc2=y['acc'][:,1]\n",
    "y_st7_acc3=y['acc'][:,2]\n",
    "y_st7_gyr1=y['gyr'][:,0]\n",
    "y_st7_gyr2=y['gyr'][:,1]\n",
    "y_st7_gyr3=y['gyr'][:,2]\n",
    "y = np.load('step_08.npz')\n",
    "y_st8_acc1=y['acc'][:,0]\n",
    "y_st8_acc2=y['acc'][:,1]\n",
    "y_st8_acc3=y['acc'][:,2]\n",
    "y_st8_gyr1=y['gyr'][:,0]\n",
    "y_st8_gyr2=y['gyr'][:,1]\n",
    "y_st8_gyr3=y['gyr'][:,2]\n",
    "y = np.load('step_09.npz')\n",
    "y_st9_acc1=y['acc'][:,0]\n",
    "y_st9_acc2=y['acc'][:,1]\n",
    "y_st9_acc3=y['acc'][:,2]\n",
    "y_st9_gyr1=y['gyr'][:,0]\n",
    "y_st9_gyr2=y['gyr'][:,1]\n",
    "y_st9_gyr3=y['gyr'][:,2]\n",
    "y = np.load('step_10.npz')\n",
    "y_st10_acc1=y['acc'][:,0]\n",
    "y_st10_acc2=y['acc'][:,1]\n",
    "y_st10_acc3=y['acc'][:,2]\n",
    "y_st10_gyr1=y['gyr'][:,0]\n",
    "y_st10_gyr2=y['gyr'][:,1]\n",
    "y_st10_gyr3=y['gyr'][:,2]\n",
    "y = np.load('step_11.npz')\n",
    "y_st11_acc1=y['acc'][:,0]\n",
    "y_st11_acc2=y['acc'][:,1]\n",
    "y_st11_acc3=y['acc'][:,2]\n",
    "y_st11_gyr1=y['gyr'][:,0]\n",
    "y_st11_gyr2=y['gyr'][:,1]\n",
    "y_st11_gyr3=y['gyr'][:,2]\n",
    "y = np.load('step_12.npz')\n",
    "y_st12_acc1=y['acc'][:,0]\n",
    "y_st12_acc2=y['acc'][:,1]\n",
    "y_st12_acc3=y['acc'][:,2]\n",
    "y_st12_gyr1=y['gyr'][:,0]\n",
    "y_st12_gyr2=y['gyr'][:,1]\n",
    "y_st12_gyr3=y['gyr'][:,2]\n",
    "y = np.load('step_13.npz')\n",
    "y_st13_acc1=y['acc'][:,0]\n",
    "y_st13_acc2=y['acc'][:,1]\n",
    "y_st13_acc3=y['acc'][:,2]\n",
    "y_st13_gyr1=y['gyr'][:,0]\n",
    "y_st13_gyr2=y['gyr'][:,1]\n",
    "y_st13_gyr3=y['gyr'][:,2]\n",
    "y = np.load('step_14.npz')\n",
    "y_st14_acc1=y['acc'][:,0]\n",
    "y_st14_acc2=y['acc'][:,1]\n",
    "y_st14_acc3=y['acc'][:,2]\n",
    "y_st14_gyr1=y['gyr'][:,0]\n",
    "y_st14_gyr2=y['gyr'][:,1]\n",
    "y_st14_gyr3=y['gyr'][:,2]\n",
    "y = np.load('step_15.npz')\n",
    "y_st15_acc1=y['acc'][:,0]\n",
    "y_st15_acc2=y['acc'][:,1]\n",
    "y_st15_acc3=y['acc'][:,2]\n",
    "y_st15_gyr1=y['gyr'][:,0]\n",
    "y_st15_gyr2=y['gyr'][:,1]\n",
    "y_st15_gyr3=y['gyr'][:,2]\n",
    "y = np.load('step_16.npz')\n",
    "y_st16_acc1=y['acc'][:,0]\n",
    "y_st16_acc2=y['acc'][:,1]\n",
    "y_st16_acc3=y['acc'][:,2]\n",
    "y_st16_gyr1=y['gyr'][:,0]\n",
    "y_st16_gyr2=y['gyr'][:,1]\n",
    "y_st16_gyr3=y['gyr'][:,2]\n",
    "y = np.load('step_17.npz')\n",
    "y_st17_acc1=y['acc'][:,0]\n",
    "y_st17_acc2=y['acc'][:,1]\n",
    "y_st17_acc3=y['acc'][:,2]\n",
    "y_st17_gyr1=y['gyr'][:,0]\n",
    "y_st17_gyr2=y['gyr'][:,1]\n",
    "y_st17_gyr3=y['gyr'][:,2]\n",
    "y = np.load('step_18.npz')\n",
    "y_st18_acc1=y['acc'][:,0]\n",
    "y_st18_acc2=y['acc'][:,1]\n",
    "y_st18_acc3=y['acc'][:,2]\n",
    "y_st18_gyr1=y['gyr'][:,0]\n",
    "y_st18_gyr2=y['gyr'][:,1]\n",
    "y_st18_gyr3=y['gyr'][:,2]\n",
    "y = np.load('step_19.npz')\n",
    "y_st19_acc1=y['acc'][:,0]\n",
    "y_st19_acc2=y['acc'][:,1]\n",
    "y_st19_acc3=y['acc'][:,2]\n",
    "y_st19_gyr1=y['gyr'][:,0]\n",
    "y_st19_gyr2=y['gyr'][:,1]\n",
    "y_st19_gyr3=y['gyr'][:,2]"
   ]
  },
  {
   "cell_type": "code",
   "execution_count": 17,
   "metadata": {},
   "outputs": [
    {
     "name": "stdout",
     "output_type": "stream",
     "text": [
      "['sleep_18.npz', 'step_12.npz', 'sleep_00.npz', 'sleep_13.npz', 'sleep_08.npz', 'sleep_04.npz', 'step_19.npz', 'sleep_02.npz', 'sleep_09.npz', 'step_17.npz', 'step_08.npz', 'step_18.npz', 'sleep_14.npz', 'sleep_17.npz', 'sleep_01.npz', 'step_16.npz', 'sleep_15.npz', 'step_11.npz', 'step_00.npz', 'step_13.npz', 'step_14.npz', 'sleep_11.npz', 'sleep_03.npz', 'step_01.npz', 'step_03.npz', 'sleep_10.npz', 'step_15.npz', 'sleep_16.npz', 'step_10.npz', 'step_07.npz', 'step_04.npz', 'sleep_06.npz', 'sleep_19.npz', 'step_09.npz', 'sleep_05.npz', 'sleep_07.npz', 'step_05.npz', 'step_02.npz', 'step_06.npz', 'sleep_12.npz']\n",
      "[0. 1. 0. 0. 0. 0. 1. 0. 0. 1. 1. 1. 0. 0. 0. 1. 0. 1. 1. 1. 1. 0. 0. 1.\n",
      " 1. 0. 1. 0. 1. 1. 1. 0. 0. 1. 0. 0. 1. 1. 1. 0.]\n"
     ]
    }
   ],
   "source": [
    "dirs = os.listdir('./sigfile')\n",
    "point=np.zeros(40)\n",
    "j=0\n",
    "for filename in dirs:\n",
    "   \n",
    "    x = np.load('./sigfile/'+filename)\n",
    "    if 'sleep' in filename:\n",
    "        point[j]=0\n",
    "    else:\n",
    "        point[j]=1\n",
    "    j=j+1  \n",
    "print(dirs)\n",
    "print(point)"
   ]
  },
  {
   "cell_type": "code",
   "execution_count": 11,
   "metadata": {},
   "outputs": [],
   "source": [
    "def short_time_energy(x, window, window_length):\n",
    "    if isinstance(window, str):\n",
    "        window = sp.signal.get_window(window, window_length)#uses scipy to make the window \n",
    "    \n",
    "    return sp.signal.convolve(x**2, window, mode=\"same\")"
   ]
  },
  {
   "cell_type": "code",
   "execution_count": 12,
   "metadata": {},
   "outputs": [],
   "source": [
    "def teo(sig):\n",
    "    sig_sq=sig*sig\n",
    "    sig1=np.roll(sig,1)\n",
    "    sig1[0]=0.0\n",
    "    sig2=np.roll(sig,-1)\n",
    "    sig2[len(sig)-1]=0.0\n",
    "    sig_mult=-sig1*sig2\n",
    "    y_sig=sig_sq-sig_mult\n",
    "    y_sig[0]=y_sig[1]\n",
    "    y_sig[-1]=y_sig[-2]\n",
    "    return y_sig"
   ]
  },
  {
   "cell_type": "code",
   "execution_count": 13,
   "metadata": {},
   "outputs": [],
   "source": [
    "def gaborfil(sig,f_c,a,f_s):\n",
    "    \n",
    "   \n",
    "    b=a/f_s\n",
    "    N=51\n",
    "    n=np.linspace(-N,N,2*N)\n",
    "    h_g_fil=np.ones((25,len(n)))\n",
    "    \n",
    "    b_sq=b*b\n",
    "    n_sq=n*n\n",
    "\n",
    "    w_c=(2*np.pi*f_c)/f_s\n",
    "    exp=np.exp(-b_sq*n_sq)\n",
    "    h_g=exp*np.cos(w_c*n)\n",
    "    \n",
    "    out_fil=np.convolve(sig,h_g,mode='same')\n",
    "        \n",
    "       \n",
    "    return out_fil  "
   ]
  },
  {
   "cell_type": "code",
   "execution_count": 14,
   "metadata": {},
   "outputs": [],
   "source": [
    "def binof(sig):\n",
    "    bino=np.zeros(3)\n",
    "    bino[0]=0.25\n",
    "    bino[1]=0.5\n",
    "    bino[2]=0.25\n",
    "    h_bino=sp.signal.lfilter(bino,1,sig)\n",
    "    return h_bino "
   ]
  },
  {
   "cell_type": "code",
   "execution_count": 30,
   "metadata": {},
   "outputs": [],
   "source": [
    "def max_mte_acc_gyr(sig,a,):\n",
    "    sig=np.pad(sig,(0,12000-len(sig)),'constant')\n",
    "    j=0\n",
    "    sig_w=np.zeros((117,400))\n",
    "    sig_w[0,:]=sig[0:400]*sp.signal.get_window(\"hamming\", 400)\n",
    "    j=1\n",
    "    for i in range(400,12000,100):\n",
    "        #y_acc2_en[i-300:i+100]=y_acc2[i-300:i+100]*np.hamming(400)\n",
    "        sig_w[j,:]=sig[i-300:i+100]*np.hamming(400)\n",
    "        j=j+1\n",
    "       #y_w_acc2_en[j,400*j-300:400*j+100]=np.convolve(y_acc2[400*j-300:400*j+100],sp.signal.get_window(\"hamming\",400),mode=\"same\")\n",
    "    a=20/50\n",
    "    f_c_min=a/2\n",
    "    f_c_max=(20-a)/2\n",
    "    f_c_val=np.linspace(f_c_min,f_c_max,25)\n",
    "    f_me_en=np.zeros(((117,25,400)))\n",
    "    f_me_teo_en=np.zeros(((117,25,400)))\n",
    "    for i_f0 in range(0,25):\n",
    "        f_me_en[0,i_f0,:]=gaborfil(sig_w[0,0:400],f_c_val[i_f0],20/50,20)\n",
    "    for j in range(1,117):\n",
    "        for i_f in range(0,25):\n",
    "            f_me_en[j,i_f,:]=gaborfil(sig_w[j,:],f_c_val[i_f],20/50,20)    \n",
    "    for j in range(0,117):\n",
    "        for i_f in range(0,25):\n",
    "            f_me_teo_en[j,i_f,:]=teo(f_me_en[j,i_f,:])\n",
    "    bi_f_teo_en=np.zeros(((117,25,400)))\n",
    "    for j in range(0,117):\n",
    "        for i_f in range(0,25):    \n",
    "            bi_f_teo_en[j,i_f,:]=binof(f_me_teo_en[j,i_f,:])\n",
    "    for j in range(0,117):\n",
    "        for i_f in range(0,25):    \n",
    "            bi_f_teo_en[j,i_f,:]=binof(bi_f_teo_en[j,i_f,:])       \n",
    "    me_te_f=np.zeros(((117,25,1)))\n",
    "    for j in range(0,117):\n",
    "        for i_f in range(0,25):    \n",
    "            me_te_f[j,i_f,:]=sum(bi_f_teo_en[j,i_f,bi_f_teo_en[j,i_f,:]>0])/len(bi_f_teo_en[j,i_f,bi_f_teo_en[j,i_f,:]>0])\n",
    "    max_me_te_f=np.zeros(117)\n",
    "    max_me_te_f_temp=np.zeros((117,25))\n",
    "    max_me_te_f_arg=np.zeros(117)\n",
    "    for j in range(0,117):\n",
    "        for i_f in range(0,25):\n",
    "            max_me_te_f_temp[j,i_f]=me_te_f[j,i_f,:]\n",
    "        max_me_en=np.max(max_me_te_f_temp[j,:])\n",
    "        arg_max_me_en=np.argmax(max_me_te_f_temp[j,:])\n",
    "        max_me_te_f[j]=max_me_en\n",
    "        max_me_te_f_arg[j]=arg_max_me_en\n",
    "    return max_me_te_f     "
   ]
  },
  {
   "cell_type": "code",
   "execution_count": 27,
   "metadata": {},
   "outputs": [
    {
     "name": "stdout",
     "output_type": "stream",
     "text": [
      "11992\n",
      "11990\n"
     ]
    },
    {
     "ename": "ValueError",
     "evalue": "operands could not be broadcast together with shapes (398,) (400,) ",
     "output_type": "error",
     "traceback": [
      "\u001b[0;31m---------------------------------------------------------------------------\u001b[0m",
      "\u001b[0;31mValueError\u001b[0m                                Traceback (most recent call last)",
      "\u001b[0;32m<ipython-input-27-acac6cfb243c>\u001b[0m in \u001b[0;36m<module>\u001b[0;34m\u001b[0m\n\u001b[1;32m      5\u001b[0m     \u001b[0mx\u001b[0m \u001b[0;34m=\u001b[0m \u001b[0mnp\u001b[0m\u001b[0;34m.\u001b[0m\u001b[0mload\u001b[0m\u001b[0;34m(\u001b[0m\u001b[0;34m'./sigfile/'\u001b[0m\u001b[0;34m+\u001b[0m\u001b[0mfilename\u001b[0m\u001b[0;34m)\u001b[0m\u001b[0;34m\u001b[0m\u001b[0;34m\u001b[0m\u001b[0m\n\u001b[1;32m      6\u001b[0m     \u001b[0mprint\u001b[0m\u001b[0;34m(\u001b[0m\u001b[0mlen\u001b[0m\u001b[0;34m(\u001b[0m\u001b[0mx\u001b[0m\u001b[0;34m[\u001b[0m\u001b[0;34m'acc'\u001b[0m\u001b[0;34m]\u001b[0m\u001b[0;34m[\u001b[0m\u001b[0;34m:\u001b[0m\u001b[0;34m,\u001b[0m\u001b[0;36m0\u001b[0m\u001b[0;34m]\u001b[0m\u001b[0;34m)\u001b[0m\u001b[0;34m)\u001b[0m\u001b[0;34m\u001b[0m\u001b[0;34m\u001b[0m\u001b[0m\n\u001b[0;32m----> 7\u001b[0;31m     \u001b[0mmmte_acc\u001b[0m\u001b[0;34m=\u001b[0m\u001b[0mmax_mte_acc_gyr\u001b[0m\u001b[0;34m(\u001b[0m\u001b[0mx\u001b[0m\u001b[0;34m[\u001b[0m\u001b[0;34m'acc'\u001b[0m\u001b[0;34m]\u001b[0m\u001b[0;34m[\u001b[0m\u001b[0;34m:\u001b[0m\u001b[0;34m,\u001b[0m\u001b[0;36m0\u001b[0m\u001b[0;34m]\u001b[0m\u001b[0;34m,\u001b[0m\u001b[0;36m20\u001b[0m\u001b[0;34m/\u001b[0m\u001b[0;36m50\u001b[0m\u001b[0;34m)\u001b[0m\u001b[0;34m\u001b[0m\u001b[0;34m\u001b[0m\u001b[0m\n\u001b[0m",
      "\u001b[0;32m<ipython-input-25-5518b7c3f08a>\u001b[0m in \u001b[0;36mmax_mte_acc_gyr\u001b[0;34m(sig, a)\u001b[0m\n\u001b[1;32m      7\u001b[0m     \u001b[0;32mfor\u001b[0m \u001b[0mi\u001b[0m \u001b[0;32min\u001b[0m \u001b[0mrange\u001b[0m\u001b[0;34m(\u001b[0m\u001b[0;36m400\u001b[0m\u001b[0;34m,\u001b[0m\u001b[0;36m12000\u001b[0m\u001b[0;34m,\u001b[0m\u001b[0;36m100\u001b[0m\u001b[0;34m)\u001b[0m\u001b[0;34m:\u001b[0m\u001b[0;34m\u001b[0m\u001b[0;34m\u001b[0m\u001b[0m\n\u001b[1;32m      8\u001b[0m         \u001b[0;31m#y_acc2_en[i-300:i+100]=y_acc2[i-300:i+100]*np.hamming(400)\u001b[0m\u001b[0;34m\u001b[0m\u001b[0;34m\u001b[0m\u001b[0;34m\u001b[0m\u001b[0m\n\u001b[0;32m----> 9\u001b[0;31m         \u001b[0msig_w\u001b[0m\u001b[0;34m[\u001b[0m\u001b[0mj\u001b[0m\u001b[0;34m,\u001b[0m\u001b[0;34m:\u001b[0m\u001b[0;34m]\u001b[0m\u001b[0;34m=\u001b[0m\u001b[0msig\u001b[0m\u001b[0;34m[\u001b[0m\u001b[0mi\u001b[0m\u001b[0;34m-\u001b[0m\u001b[0;36m300\u001b[0m\u001b[0;34m:\u001b[0m\u001b[0mi\u001b[0m\u001b[0;34m+\u001b[0m\u001b[0;36m100\u001b[0m\u001b[0;34m]\u001b[0m\u001b[0;34m*\u001b[0m\u001b[0mnp\u001b[0m\u001b[0;34m.\u001b[0m\u001b[0mhamming\u001b[0m\u001b[0;34m(\u001b[0m\u001b[0;36m400\u001b[0m\u001b[0;34m)\u001b[0m\u001b[0;34m\u001b[0m\u001b[0;34m\u001b[0m\u001b[0m\n\u001b[0m\u001b[1;32m     10\u001b[0m         \u001b[0mj\u001b[0m\u001b[0;34m=\u001b[0m\u001b[0mj\u001b[0m\u001b[0;34m+\u001b[0m\u001b[0;36m1\u001b[0m\u001b[0;34m\u001b[0m\u001b[0;34m\u001b[0m\u001b[0m\n\u001b[1;32m     11\u001b[0m        \u001b[0;31m#y_w_acc2_en[j,400*j-300:400*j+100]=np.convolve(y_acc2[400*j-300:400*j+100],sp.signal.get_window(\"hamming\",400),mode=\"same\")\u001b[0m\u001b[0;34m\u001b[0m\u001b[0;34m\u001b[0m\u001b[0;34m\u001b[0m\u001b[0m\n",
      "\u001b[0;31mValueError\u001b[0m: operands could not be broadcast together with shapes (398,) (400,) "
     ]
    }
   ],
   "source": [
    "dirs = os.listdir('./sigfile')\n",
    "useful_val=np.zeros((40,56))\n",
    "for filename in dirs:\n",
    "    j=0\n",
    "    x = np.load('./sigfile/'+filename)\n",
    "    print(len(x['acc'][:,0]))\n",
    "    mmte_acc=max_mte_acc_gyr(x['acc'][:,0],20/50)"
   ]
  },
  {
   "cell_type": "code",
   "execution_count": 32,
   "metadata": {},
   "outputs": [
    {
     "name": "stdout",
     "output_type": "stream",
     "text": [
      "[7.99763729e+02 3.85580247e+02 7.61956121e+01 2.90000431e+02\n",
      " 4.60020984e+02 5.16736043e+02 3.90692807e+02 1.87779387e+02\n",
      " 7.44686564e+01 1.43660813e+02 3.21533188e+02 2.50886265e+02\n",
      " 4.67254732e+02 5.61592974e+02 5.05194311e+02 3.67929715e+02\n",
      " 6.81834166e+02 7.32566257e+02 4.08545201e+02 8.41765097e+01\n",
      " 1.53683706e+02 2.05397065e+02 1.55349388e+02 9.81047941e+01\n",
      " 1.31953972e+02 1.17042630e+02 6.16084998e+01 2.09103131e+01\n",
      " 4.99040836e+01 8.48278484e+01 2.52549267e+02 1.94868020e+02\n",
      " 1.40315335e+02 5.16823398e+02 4.26768995e+02 1.41747053e+02\n",
      " 3.94934137e+02 3.68717747e+02 9.92274503e+01 7.08623099e+01\n",
      " 7.10460646e+01 6.02991882e+02 1.04670427e+03 2.44878479e+02\n",
      " 2.73313761e+01 6.46782553e+00 1.83603423e+02 5.13117096e+02\n",
      " 1.39518921e+02 3.39277158e+01 7.28148631e+01 2.81690527e+01\n",
      " 5.18271973e+01 2.13754727e+02 1.82309193e+02 3.44813693e+01\n",
      " 8.21638815e+00 1.08964224e+02 2.24656745e+02 6.92625308e+01\n",
      " 5.98526478e+01 4.72671381e+01 9.41624978e+01 2.15940295e+02\n",
      " 1.94378314e+02 6.97276584e+01 1.45371661e+02 6.66814426e+01\n",
      " 3.20233907e+01 2.42381053e+01 5.66476918e+00 2.69240085e+00\n",
      " 1.81177507e+01 2.22197903e+01 1.15602610e+01 5.32408967e+01\n",
      " 2.55058342e+02 2.91706539e+02 1.47248136e+02 1.24747905e+02\n",
      " 1.84948458e+02 2.27524256e+02 2.47334697e+02 2.80330273e+02\n",
      " 1.88212487e+02 2.21540255e+01 5.44640448e+01 1.27947904e+02\n",
      " 3.08462387e+02 1.23830658e+02 3.25140776e+01 3.34413982e+00\n",
      " 2.42063954e+01 1.95002714e+02 1.54224276e+02 3.73620633e+02\n",
      " 1.99573582e+02 8.28627326e+00 1.63580637e+00 1.57371274e+00\n",
      " 1.50441932e+00 1.66274697e+00 6.68215646e+00 3.65509948e+01\n",
      " 1.86025767e+02 7.08983572e+02 6.47044817e+02 1.22664447e+03\n",
      " 8.27410946e+02 3.15014279e+02 1.63998357e+02 7.38399748e+01\n",
      " 8.03376962e+02 7.44443284e+03 8.87381563e+03 4.68588317e+03\n",
      " 3.90729727e+03]\n",
      "2998\n",
      "26\n"
     ]
    }
   ],
   "source": [
    "print(first_acc)\n",
    "print(len(y_sl0_hrm))\n",
    "y_tes=y['hrm']\n",
    "y_tes=np.pad(y_tes,(0,8),'constant')\n",
    "y_tes[0:400]=y_tes[0:400]*sp.signal.get_window(\"hamming\", 400)\n",
    "j=0\n",
    "for i in range(400,3000,100):\n",
    "    \n",
    "    j=j+1\n",
    "    y_tes[i-300:i+100]=y_tes[i-300:i+100]*np.hamming(400)\n",
    "print(j)"
   ]
  },
  {
   "cell_type": "code",
   "execution_count": 29,
   "metadata": {},
   "outputs": [],
   "source": [
    "def max_mte_hrm(sig,a,):\n",
    "    sig=np.pad(sig,(0,3000-len(sig)),'constant')\n",
    "    \n",
    "    j=0\n",
    "    sig_w=np.zeros((27,400))\n",
    "    sig_w[0,:]=sig[0:400]*sp.signal.get_window(\"hamming\", 400)\n",
    "    j=1\n",
    "    for i in range(400,3000,100):\n",
    "        #y_acc2_en[i-300:i+100]=y_acc2[i-300:i+100]*np.hamming(400)\n",
    "        sig_w[j,:]=sig[i-300:i+100]*np.hamming(400)\n",
    "        j=j+1\n",
    "       #y_w_acc2_en[j,400*j-300:400*j+100]=np.convolve(y_acc2[400*j-300:400*j+100],sp.signal.get_window(\"hamming\",400),mode=\"same\")\n",
    "    a=5/50\n",
    "    f_c_min=a/2\n",
    "    f_c_max=(5-a)/2\n",
    "    f_c_val=np.linspace(f_c_min,f_c_max,25)\n",
    "    f_me_en=np.zeros(((27,25,400)))\n",
    "    f_me_teo_en=np.zeros(((27,25,400)))\n",
    "    for i_f0 in range(0,25):\n",
    "        f_me_en[0,i_f0,:]=gaborfil(sig_w[0,0:400],f_c_val[i_f0],5/50,5)\n",
    "    for j in range(1,27):\n",
    "        for i_f in range(0,25):\n",
    "            f_me_en[j,i_f,:]=gaborfil(sig_w[j,:],f_c_val[i_f],5/50,5)    \n",
    "    for j in range(0,27):\n",
    "        for i_f in range(0,25):\n",
    "            f_me_teo_en[j,i_f,:]=teo(f_me_en[j,i_f,:])\n",
    "    bi_f_teo_en=np.zeros(((27,25,400)))\n",
    "    for j in range(0,27):\n",
    "        for i_f in range(0,25):    \n",
    "            bi_f_teo_en[j,i_f,:]=binof(f_me_teo_en[j,i_f,:])\n",
    "    for j in range(0,27):\n",
    "        for i_f in range(0,25):    \n",
    "            bi_f_teo_en[j,i_f,:]=binof(bi_f_teo_en[j,i_f,:])       \n",
    "    me_te_f=np.zeros(((27,25,1)))\n",
    "    for j in range(0,27):\n",
    "        for i_f in range(0,25):    \n",
    "            me_te_f[j,i_f,:]=sum(bi_f_teo_en[j,i_f,bi_f_teo_en[j,i_f,:]>0])/len(bi_f_teo_en[j,i_f,bi_f_teo_en[j,i_f,:]>0])\n",
    "    max_me_te_f=np.zeros(27)\n",
    "    max_me_te_f_temp=np.zeros((27,25))\n",
    "    max_me_te_f_arg=np.zeros(27)\n",
    "    for j in range(0,27):\n",
    "        for i_f in range(0,25):\n",
    "            max_me_te_f_temp[j,i_f]=me_te_f[j,i_f,:]\n",
    "        max_me_en=np.max(max_me_te_f_temp[j,:])\n",
    "        arg_max_me_en=np.argmax(max_me_te_f_temp[j,:])\n",
    "        max_me_te_f[j]=max_me_en\n",
    "        max_me_te_f_arg[j]=arg_max_me_en\n",
    "    return max_me_te_f     "
   ]
  },
  {
   "cell_type": "code",
   "execution_count": 37,
   "metadata": {},
   "outputs": [],
   "source": [
    "y_sl0_hrm=y['hrm']\n",
    "first_hrm=max_mte_hrm(y_sl0_hrm,5/50)"
   ]
  },
  {
   "cell_type": "code",
   "execution_count": 38,
   "metadata": {},
   "outputs": [
    {
     "name": "stdout",
     "output_type": "stream",
     "text": [
      "[60670380.50089205 40982695.55474702 57356380.40074205 75648649.02757959\n",
      " 66434582.01840466 56590318.24797083 49330618.46179449 39247300.77938275\n",
      " 39037547.8828821  49891467.154598   47748887.34074436 40549691.48408066\n",
      " 36940452.28016953 38644217.05562538 37810045.41436806 42070286.66277585\n",
      " 48785170.74071369 64501116.65845538 64113666.36418557 68668322.65532972\n",
      " 80963431.96440695 66094415.98229189 65674607.79537963 55824994.66358863\n",
      " 51034232.81997765 56538546.02391484 62884785.78212899]\n"
     ]
    }
   ],
   "source": [
    "print(first_hrm)"
   ]
  },
  {
   "cell_type": "code",
   "execution_count": 17,
   "metadata": {},
   "outputs": [],
   "source": [
    "def calculate_values(ste):\n",
    "    values=np.zeros(4)\n",
    "    values[0]=np.mean(ste)\n",
    "    values[1]=np.min(ste)\n",
    "    values[2]=np.max(ste)\n",
    "    values[3]=np.std(ste)\n",
    "    return values   "
   ]
  },
  {
   "cell_type": "code",
   "execution_count": 33,
   "metadata": {},
   "outputs": [],
   "source": [
    "dirs = os.listdir('./sigfile')\n",
    "useful_val=np.zeros((40,56))\n",
    "j=0\n",
    "for filename in dirs:\n",
    "    \n",
    "    x = np.load('./sigfile/'+filename)\n",
    "    mmte_acc=max_mte_acc_gyr(x['acc'][:,0],20/50)\n",
    "    acc_val=calculate_values(mmte_acc)\n",
    "    useful_val[j,0:4]=acc_val\n",
    "    mmte_acc=max_mte_acc_gyr(x['acc'][:,1],20/50)\n",
    "    acc_val=calculate_values(mmte_acc)\n",
    "    useful_val[j,4:8]=acc_val\n",
    "    mmte_acc=max_mte_acc_gyr(x['acc'][:,2],20/50)\n",
    "    acc_val=calculate_values(mmte_acc)\n",
    "    useful_val[j,8:12]=acc_val\n",
    "    mmte_acc=max_mte_acc_gyr(x['gyr'][:,0],20/50)\n",
    "    acc_val=calculate_values(mmte_acc)\n",
    "    useful_val[j,12:16]=acc_val\n",
    "    mmte_acc=max_mte_acc_gyr(x['gyr'][:,1],20/50)\n",
    "    acc_val=calculate_values(mmte_acc)\n",
    "    useful_val[j,16:20]=acc_val\n",
    "    mmte_acc=max_mte_acc_gyr(x['gyr'][:,2],20/50)\n",
    "    acc_val=calculate_values(mmte_acc)\n",
    "    useful_val[j,20:24]=acc_val\n",
    "    mmte_hrm=max_mte_hrm(x['hrm'],5/50)\n",
    "    acc_val=calculate_values(mmte_hrm)\n",
    "    useful_val[j,24:28]=acc_val\n",
    "    ste_acc=short_time_energy(x['acc'][:,0],sp.signal.get_window(\"hamming\", 400),400)\n",
    "    acc_val=calculate_values(ste_acc)\n",
    "    useful_val[j,28:32]=acc_val\n",
    "    ste_acc=short_time_energy(x['acc'][:,1],sp.signal.get_window(\"hamming\", 400),400)\n",
    "    acc_val=calculate_values(ste_acc)\n",
    "    useful_val[j,32:36]=acc_val\n",
    "    ste_acc=short_time_energy(x['acc'][:,2],sp.signal.get_window(\"hamming\", 400),400)\n",
    "    acc_val=calculate_values(ste_acc)\n",
    "    useful_val[j,36:40]=acc_val\n",
    "    ste_acc=short_time_energy(x['gyr'][:,0],sp.signal.get_window(\"hamming\", 400),400)\n",
    "    acc_val=calculate_values(ste_acc)\n",
    "    useful_val[j,40:44]=acc_val\n",
    "    ste_acc=short_time_energy(x['gyr'][:,1],sp.signal.get_window(\"hamming\", 400),400)\n",
    "    acc_val=calculate_values(ste_acc)\n",
    "    useful_val[j,44:48]=acc_val\n",
    "    ste_acc=short_time_energy(x['gyr'][:,2],sp.signal.get_window(\"hamming\", 400),400)\n",
    "    acc_val=calculate_values(ste_acc)\n",
    "    useful_val[j,48:52]=acc_val\n",
    "    ste_hrm=short_time_energy(x['hrm'],sp.signal.get_window(\"hamming\", 400),400)\n",
    "    acc_val=calculate_values(ste_hrm)\n",
    "    useful_val[j,52:56]=acc_val\n",
    "    j=j+1"
   ]
  },
  {
   "cell_type": "code",
   "execution_count": 71,
   "metadata": {},
   "outputs": [
    {
     "name": "stdout",
     "output_type": "stream",
     "text": [
      "['sleep_18.npz', 'step_12.npz', 'sleep_00.npz', 'sleep_13.npz', 'sleep_08.npz', 'sleep_04.npz', 'step_19.npz', 'sleep_02.npz', 'sleep_09.npz', 'step_17.npz', 'step_08.npz', 'step_18.npz', 'sleep_14.npz', 'sleep_17.npz', 'sleep_01.npz', 'step_16.npz', 'sleep_15.npz', 'step_11.npz', 'step_00.npz', 'step_13.npz', 'step_14.npz', 'sleep_11.npz', 'sleep_03.npz', 'step_01.npz', 'step_03.npz', 'sleep_10.npz', 'step_15.npz', 'sleep_16.npz', 'step_10.npz', 'step_07.npz', 'step_04.npz', 'sleep_06.npz', 'sleep_19.npz', 'step_09.npz', 'sleep_05.npz', 'sleep_07.npz', 'step_05.npz', 'step_02.npz', 'step_06.npz', 'sleep_12.npz']\n"
     ]
    }
   ],
   "source": [
    "print(dirs)"
   ]
  },
  {
   "cell_type": "code",
   "execution_count": 50,
   "metadata": {},
   "outputs": [],
   "source": [
    "np.save('array3rdpart.npy',useful_val,allow_pickle=True)"
   ]
  },
  {
   "cell_type": "code",
   "execution_count": 4,
   "metadata": {},
   "outputs": [],
   "source": [
    "useful_val=np.load('array3rdpart.npy',allow_pickle=True)"
   ]
  },
  {
   "cell_type": "code",
   "execution_count": 5,
   "metadata": {},
   "outputs": [
    {
     "name": "stdout",
     "output_type": "stream",
     "text": [
      "[[2.77304793e+00 2.13731888e+00 3.76837426e+00 ... 9.20472299e+07\n",
      "  2.12284682e+08 1.80961479e+07]\n",
      " [1.94290463e+03 7.55709804e+00 1.23079175e+04 ... 4.53917898e+07\n",
      "  1.49944539e+08 1.76561690e+07]\n",
      " [2.19721326e+00 4.62693442e-02 1.17149859e+02 ... 1.04068339e+08\n",
      "  2.19300063e+08 1.75818099e+07]\n",
      " ...\n",
      " [1.02128611e+03 4.98705524e+00 1.53836050e+04 ... 3.45833016e+07\n",
      "  1.59743717e+08 2.56997803e+07]\n",
      " [3.69566878e+02 1.87424740e+00 7.08550091e+03 ... 6.25463742e+07\n",
      "  1.64392280e+08 1.63037849e+07]\n",
      " [6.18349532e+00 1.40404443e+00 2.23393662e+02 ... 8.69378585e+07\n",
      "  2.14867451e+08 2.11774451e+07]]\n"
     ]
    }
   ],
   "source": [
    "print(useful_val)"
   ]
  },
  {
   "cell_type": "code",
   "execution_count": 6,
   "metadata": {},
   "outputs": [],
   "source": [
    "useful_val_m=useful_val.mean(axis=0)"
   ]
  },
  {
   "cell_type": "code",
   "execution_count": 7,
   "metadata": {},
   "outputs": [],
   "source": [
    "useful_val_k=useful_val-useful_val_m"
   ]
  },
  {
   "cell_type": "code",
   "execution_count": 8,
   "metadata": {},
   "outputs": [
    {
     "name": "stdout",
     "output_type": "stream",
     "text": [
      "[5.41406436e+02 6.63433821e+00 4.78841235e+03 7.26732576e+02\n",
      " 4.64794337e+02 3.98940686e+00 4.48128893e+03 7.29849429e+02\n",
      " 4.15131528e+02 3.39641720e+00 3.52120258e+03 5.64412308e+02\n",
      " 4.19990657e+05 2.29140506e+03 3.16014893e+06 4.96460633e+05\n",
      " 1.53034392e+05 1.93396872e+03 1.07637459e+06 1.87597777e+05\n",
      " 3.34149480e+05 9.84721456e+02 2.92679688e+06 5.56544205e+05\n",
      " 1.14798087e+08 9.40886030e+07 1.42887268e+08 1.18190990e+07\n",
      " 5.78699855e+02 1.37790041e+01 2.83985748e+03 5.21424728e+02\n",
      " 5.59612756e+02 1.52513579e+01 3.06374817e+03 5.34733787e+02\n",
      " 4.60216042e+02 8.42318880e+00 2.57326123e+03 4.37683431e+02\n",
      " 7.82062274e+05 1.06754219e+04 4.32776710e+06 7.46604013e+05\n",
      " 1.59612626e+05 3.92444236e+03 7.85555959e+05 1.50100048e+05\n",
      " 2.52402173e+05 2.44841483e+03 1.53601910e+06 2.90063309e+05\n",
      " 1.62957692e+08 7.48583098e+07 1.95663014e+08 2.06239760e+07]\n"
     ]
    }
   ],
   "source": [
    "print(useful_val_m)"
   ]
  },
  {
   "cell_type": "code",
   "execution_count": 9,
   "metadata": {},
   "outputs": [
    {
     "name": "stdout",
     "output_type": "stream",
     "text": [
      "(40, 40)\n",
      "(40,)\n",
      "(56, 56)\n"
     ]
    }
   ],
   "source": [
    "u,s,vh=np.linalg.svd(useful_val_k)\n",
    "print(u.shape)\n",
    "print(s.shape)\n",
    "print(vh.shape)"
   ]
  },
  {
   "cell_type": "code",
   "execution_count": 10,
   "metadata": {},
   "outputs": [
    {
     "name": "stdout",
     "output_type": "stream",
     "text": [
      "(56, 56)\n"
     ]
    }
   ],
   "source": [
    "v=vh.T\n",
    "print(v.shape)"
   ]
  },
  {
   "cell_type": "code",
   "execution_count": 11,
   "metadata": {},
   "outputs": [
    {
     "name": "stdout",
     "output_type": "stream",
     "text": [
      "[[-5.44723286e-06 -3.63533399e-06 -7.00361086e-06 ...  1.05793095e-01\n",
      "  -8.87256285e-02  9.99945214e-03]\n",
      " [-5.39807262e-08 -4.99922814e-07  8.30931910e-07 ...  2.85065579e-01\n",
      "  -8.57596667e-02 -2.52483728e-01]\n",
      " [-3.96501960e-05 -4.01923116e-05 -4.89622921e-05 ... -2.67777447e-02\n",
      "   1.25586644e-02 -3.00297778e-02]\n",
      " ...\n",
      " [ 2.87726186e-01  1.21496021e-01 -1.03027459e-01 ... -1.74115113e-07\n",
      "  -2.71356531e-08  3.96288606e-08]\n",
      " [ 4.67476155e-01 -3.05682292e-01 -4.97380424e-01 ...  1.97680807e-07\n",
      "   2.96766577e-07  4.22973479e-07]\n",
      " [ 1.08442007e-02 -1.35949934e-01 -3.09022502e-01 ...  1.79923012e-07\n",
      "   8.31557172e-07  3.74924219e-07]]\n"
     ]
    }
   ],
   "source": [
    "print(v)"
   ]
  },
  {
   "cell_type": "code",
   "execution_count": 12,
   "metadata": {},
   "outputs": [],
   "source": [
    "u_nok,s_nok,vh_nok=np.linalg.svd(useful_val)"
   ]
  },
  {
   "cell_type": "code",
   "execution_count": 13,
   "metadata": {},
   "outputs": [
    {
     "name": "stdout",
     "output_type": "stream",
     "text": [
      "[9.24816891e+15 7.18656068e+14 1.33141822e+14 7.98820876e+13\n",
      " 5.34088033e+13 2.36108920e+13 1.54517352e+13 6.89111409e+12\n",
      " 3.19159947e+12 7.48522445e+11 4.47630967e+11 2.45049155e+11\n",
      " 1.09479660e+11 9.39192120e+10 1.92937456e+10 8.32456547e+09\n",
      " 4.86093070e+09 3.17707575e+09 1.52372564e+09 1.06274667e+09\n",
      " 1.68344863e+08 1.19350291e+08 1.00260540e+08 2.58806937e+07\n",
      " 8.98928739e+06 3.89777600e+06 2.81166391e+06 1.13954222e+06\n",
      " 5.42714345e+05 1.39141300e+05 7.98973566e+04 2.96922879e+04\n",
      " 2.13033461e+04 4.03023225e+03 6.54021203e+02 2.11579157e+02\n",
      " 1.48325366e+01 8.92916866e+00 2.61938192e+00 8.63363115e-17]\n"
     ]
    }
   ],
   "source": [
    "j=0\n",
    "l_val=np.zeros(40)\n",
    "for i in s:\n",
    "    l_val[j]=(i**2)/40\n",
    "    j=j+1\n",
    "print(l_val)    "
   ]
  },
  {
   "cell_type": "code",
   "execution_count": 14,
   "metadata": {},
   "outputs": [
    {
     "name": "stdout",
     "output_type": "stream",
     "text": [
      "(56, 2)\n"
     ]
    }
   ],
   "source": [
    "v_useful=v[:,:2]\n",
    "print(v_useful.shape)"
   ]
  },
  {
   "cell_type": "code",
   "execution_count": 15,
   "metadata": {},
   "outputs": [
    {
     "name": "stdout",
     "output_type": "stream",
     "text": [
      "[[ 4.28879990e-11  2.11143198e-12  3.62096327e-10 ... -2.00899015e-06\n",
      "  -1.43519424e-06  4.35152530e-07]\n",
      " [ 2.11143198e-12  2.52836739e-13  2.22333999e-11 ... -7.62703011e-08\n",
      "   1.27582850e-07  6.73790959e-08]\n",
      " [ 3.62096327e-10  2.22333999e-11  3.18755995e-09 ... -1.62916056e-05\n",
      "  -6.24944321e-06  5.03416744e-06]\n",
      " ...\n",
      " [-2.00899015e-06 -7.62703011e-08 -1.62916056e-05 ...  9.75476414e-02\n",
      "   9.73659491e-02 -1.33972155e-02]\n",
      " [-1.43519424e-06  1.27582850e-07 -6.24944321e-06 ...  9.73659491e-02\n",
      "   3.11975619e-01  4.66268928e-02]\n",
      " [ 4.35152530e-07  6.73790959e-08  5.03416744e-06 ... -1.33972155e-02\n",
      "   4.66268928e-02  1.85999813e-02]]\n"
     ]
    }
   ],
   "source": [
    "v_test=np.matmul(v_useful,v_useful.T)\n",
    "print(v_test)"
   ]
  },
  {
   "cell_type": "code",
   "execution_count": 16,
   "metadata": {},
   "outputs": [
    {
     "name": "stdout",
     "output_type": "stream",
     "text": [
      "(40, 2)\n",
      "[[ 5.09580127e+07  1.24861149e+07]\n",
      " [-9.68319961e+07  3.23648196e+06]\n",
      " [ 7.36381517e+07  1.77322670e+07]\n",
      " [ 1.06934808e+07  1.17759090e+07]\n",
      " [ 1.72654943e+08 -7.87937384e+06]\n",
      " [ 4.09879086e+07  4.66696064e+06]\n",
      " [-1.48915078e+08  1.83938569e+07]\n",
      " [ 5.02944179e+07  1.71401391e+07]\n",
      " [ 6.15228024e+07  2.30058131e+07]\n",
      " [-7.28553070e+07  8.51036867e+06]\n",
      " [ 4.09896189e+04 -5.68407221e+07]\n",
      " [-1.05184696e+08  1.84168677e+07]\n",
      " [ 1.39922670e+08 -2.53784254e+07]\n",
      " [ 1.04719402e+08  8.32807434e+05]\n",
      " [ 8.66791123e+07  1.47286858e+07]\n",
      " [-1.11074100e+08  2.60612914e+06]\n",
      " [ 1.56400921e+08 -1.59238979e+07]\n",
      " [-4.84122644e+07 -2.96904337e+07]\n",
      " [-8.59092878e+07  2.70035286e+07]\n",
      " [-9.51663034e+07  1.00181273e+07]\n",
      " [-7.14657942e+07  1.43827581e+07]\n",
      " [ 1.19187959e+08  8.64958175e+05]\n",
      " [ 1.11257206e+08  2.76988681e+06]\n",
      " [-9.78767071e+07  1.57660189e+07]\n",
      " [-7.13350580e+07 -5.55946187e+05]\n",
      " [ 1.00272073e+08  1.38888965e+07]\n",
      " [-8.89442387e+07 -3.72836220e+07]\n",
      " [ 1.13679908e+08 -1.87128653e+07]\n",
      " [-1.23134753e+08  4.58077504e+06]\n",
      " [-7.00764580e+07 -1.26863243e+08]\n",
      " [-9.46576040e+07  1.58572343e+07]\n",
      " [ 5.98610034e+06  1.33611667e+07]\n",
      " [ 1.25686567e+08  3.59997914e+06]\n",
      " [-7.62422488e+07  1.20743367e+07]\n",
      " [ 1.19839444e+08  3.69596596e+06]\n",
      " [ 7.29784604e+07  2.67491121e+07]\n",
      " [-1.31271632e+08  1.54556377e+07]\n",
      " [-1.11877065e+08 -1.81556556e+07]\n",
      " [-5.77517975e+07  2.11582541e+06]\n",
      " [ 4.15818592e+07  1.56757627e+06]]\n"
     ]
    }
   ],
   "source": [
    "y_array=np.matmul(useful_val_k,v_useful)\n",
    "print(y_array.shape)\n",
    "print(y_array)"
   ]
  },
  {
   "cell_type": "code",
   "execution_count": 17,
   "metadata": {},
   "outputs": [
    {
     "ename": "NameError",
     "evalue": "name 'dirs' is not defined",
     "output_type": "error",
     "traceback": [
      "\u001b[1;31m---------------------------------------------------------------------------\u001b[0m",
      "\u001b[1;31mNameError\u001b[0m                                 Traceback (most recent call last)",
      "\u001b[1;32m<ipython-input-17-f36ca09d7d29>\u001b[0m in \u001b[0;36m<module>\u001b[1;34m\u001b[0m\n\u001b[1;32m----> 1\u001b[1;33m \u001b[0mprint\u001b[0m\u001b[1;33m(\u001b[0m\u001b[0mdirs\u001b[0m\u001b[1;33m)\u001b[0m\u001b[1;33m\u001b[0m\u001b[1;33m\u001b[0m\u001b[0m\n\u001b[0m",
      "\u001b[1;31mNameError\u001b[0m: name 'dirs' is not defined"
     ]
    }
   ],
   "source": [
    "print(dirs)"
   ]
  },
  {
   "cell_type": "code",
   "execution_count": 18,
   "metadata": {},
   "outputs": [
    {
     "ename": "NameError",
     "evalue": "name 'dirs' is not defined",
     "output_type": "error",
     "traceback": [
      "\u001b[1;31m---------------------------------------------------------------------------\u001b[0m",
      "\u001b[1;31mNameError\u001b[0m                                 Traceback (most recent call last)",
      "\u001b[1;32m<ipython-input-18-f36ca09d7d29>\u001b[0m in \u001b[0;36m<module>\u001b[1;34m\u001b[0m\n\u001b[1;32m----> 1\u001b[1;33m \u001b[0mprint\u001b[0m\u001b[1;33m(\u001b[0m\u001b[0mdirs\u001b[0m\u001b[1;33m)\u001b[0m\u001b[1;33m\u001b[0m\u001b[1;33m\u001b[0m\u001b[0m\n\u001b[0m",
      "\u001b[1;31mNameError\u001b[0m: name 'dirs' is not defined"
     ]
    }
   ],
   "source": [
    "print(dirs)"
   ]
  },
  {
   "cell_type": "code",
   "execution_count": 19,
   "metadata": {},
   "outputs": [
    {
     "ename": "NameError",
     "evalue": "name 'dirs' is not defined",
     "output_type": "error",
     "traceback": [
      "\u001b[1;31m---------------------------------------------------------------------------\u001b[0m",
      "\u001b[1;31mNameError\u001b[0m                                 Traceback (most recent call last)",
      "\u001b[1;32m<ipython-input-19-c4064a5107eb>\u001b[0m in \u001b[0;36m<module>\u001b[1;34m\u001b[0m\n\u001b[1;32m----> 1\u001b[1;33m \u001b[0mprint\u001b[0m\u001b[1;33m(\u001b[0m\u001b[0mdirs\u001b[0m\u001b[1;33m.\u001b[0m\u001b[0mtype\u001b[0m\u001b[1;33m)\u001b[0m\u001b[1;33m\u001b[0m\u001b[1;33m\u001b[0m\u001b[0m\n\u001b[0m",
      "\u001b[1;31mNameError\u001b[0m: name 'dirs' is not defined"
     ]
    }
   ],
   "source": [
    "print(dirs.type)"
   ]
  },
  {
   "cell_type": "code",
   "execution_count": 20,
   "metadata": {},
   "outputs": [
    {
     "ename": "NameError",
     "evalue": "name 'point' is not defined",
     "output_type": "error",
     "traceback": [
      "\u001b[1;31m---------------------------------------------------------------------------\u001b[0m",
      "\u001b[1;31mNameError\u001b[0m                                 Traceback (most recent call last)",
      "\u001b[1;32m<ipython-input-20-1c173f140217>\u001b[0m in \u001b[0;36m<module>\u001b[1;34m\u001b[0m\n\u001b[0;32m      4\u001b[0m \u001b[0msl_count\u001b[0m\u001b[1;33m=\u001b[0m\u001b[1;36m0\u001b[0m\u001b[1;33m\u001b[0m\u001b[1;33m\u001b[0m\u001b[0m\n\u001b[0;32m      5\u001b[0m \u001b[0mst_count\u001b[0m\u001b[1;33m=\u001b[0m\u001b[1;36m0\u001b[0m\u001b[1;33m\u001b[0m\u001b[1;33m\u001b[0m\u001b[0m\n\u001b[1;32m----> 6\u001b[1;33m \u001b[1;32mfor\u001b[0m \u001b[0mi\u001b[0m \u001b[1;32min\u001b[0m \u001b[0mpoint\u001b[0m\u001b[1;33m:\u001b[0m\u001b[1;33m\u001b[0m\u001b[1;33m\u001b[0m\u001b[0m\n\u001b[0m\u001b[0;32m      7\u001b[0m     \u001b[1;32mif\u001b[0m \u001b[0mi\u001b[0m\u001b[1;33m==\u001b[0m\u001b[1;36m0\u001b[0m\u001b[1;33m:\u001b[0m\u001b[1;33m\u001b[0m\u001b[1;33m\u001b[0m\u001b[0m\n\u001b[0;32m      8\u001b[0m         \u001b[0my_array_sl\u001b[0m\u001b[1;33m[\u001b[0m\u001b[0msl_count\u001b[0m\u001b[1;33m,\u001b[0m\u001b[1;33m:\u001b[0m\u001b[1;33m]\u001b[0m\u001b[1;33m=\u001b[0m\u001b[0my_array\u001b[0m\u001b[1;33m[\u001b[0m\u001b[0mj\u001b[0m\u001b[1;33m,\u001b[0m\u001b[1;33m:\u001b[0m\u001b[1;33m]\u001b[0m\u001b[1;33m\u001b[0m\u001b[1;33m\u001b[0m\u001b[0m\n",
      "\u001b[1;31mNameError\u001b[0m: name 'point' is not defined"
     ]
    }
   ],
   "source": [
    "y_array_sl=np.zeros((20,2))\n",
    "y_array_st=np.zeros((20,2))\n",
    "j=0\n",
    "sl_count=0\n",
    "st_count=0\n",
    "for i in point:\n",
    "    if i==0:\n",
    "        y_array_sl[sl_count,:]=y_array[j,:]\n",
    "        sl_count=sl_count+1\n",
    "    else:\n",
    "        y_array_st[st_count,:]=y_array[j,:]\n",
    "        st_count=st_count+1\n",
    "    j=j+1    "
   ]
  },
  {
   "cell_type": "code",
   "execution_count": 22,
   "metadata": {},
   "outputs": [
    {
     "name": "stdout",
     "output_type": "stream",
     "text": [
      "[[ 5.09580127e+07  1.24861149e+07]\n",
      " [ 7.36381517e+07  1.77322670e+07]\n",
      " [ 1.06934808e+07  1.17759090e+07]\n",
      " [ 1.72654943e+08 -7.87937384e+06]\n",
      " [ 4.09879086e+07  4.66696064e+06]\n",
      " [ 5.02944179e+07  1.71401391e+07]\n",
      " [ 6.15228024e+07  2.30058131e+07]\n",
      " [ 1.39922670e+08 -2.53784254e+07]\n",
      " [ 1.04719402e+08  8.32807434e+05]\n",
      " [ 8.66791123e+07  1.47286858e+07]\n",
      " [ 1.56400921e+08 -1.59238979e+07]\n",
      " [ 1.19187959e+08  8.64958175e+05]\n",
      " [ 1.11257206e+08  2.76988681e+06]\n",
      " [ 1.00272073e+08  1.38888965e+07]\n",
      " [ 1.13679908e+08 -1.87128653e+07]\n",
      " [ 5.98610034e+06  1.33611667e+07]\n",
      " [ 1.25686567e+08  3.59997914e+06]\n",
      " [ 1.19839444e+08  3.69596596e+06]\n",
      " [ 7.29784604e+07  2.67491121e+07]\n",
      " [ 4.15818592e+07  1.56757627e+06]]\n"
     ]
    }
   ],
   "source": [
    "print(y_array_sl)"
   ]
  },
  {
   "cell_type": "code",
   "execution_count": 23,
   "metadata": {},
   "outputs": [
    {
     "name": "stdout",
     "output_type": "stream",
     "text": [
      "[[-9.68319961e+07  3.23648196e+06]\n",
      " [-1.48915078e+08  1.83938569e+07]\n",
      " [-7.28553070e+07  8.51036867e+06]\n",
      " [ 4.09896189e+04 -5.68407221e+07]\n",
      " [-1.05184696e+08  1.84168677e+07]\n",
      " [-1.11074100e+08  2.60612914e+06]\n",
      " [-4.84122644e+07 -2.96904337e+07]\n",
      " [-8.59092878e+07  2.70035286e+07]\n",
      " [-9.51663034e+07  1.00181273e+07]\n",
      " [-7.14657942e+07  1.43827581e+07]\n",
      " [-9.78767071e+07  1.57660189e+07]\n",
      " [-7.13350580e+07 -5.55946187e+05]\n",
      " [-8.89442387e+07 -3.72836220e+07]\n",
      " [-1.23134753e+08  4.58077504e+06]\n",
      " [-7.00764580e+07 -1.26863243e+08]\n",
      " [-9.46576040e+07  1.58572343e+07]\n",
      " [-7.62422488e+07  1.20743367e+07]\n",
      " [-1.31271632e+08  1.54556377e+07]\n",
      " [-1.11877065e+08 -1.81556556e+07]\n",
      " [-5.77517975e+07  2.11582541e+06]]\n"
     ]
    }
   ],
   "source": [
    "print(y_array_st)"
   ]
  },
  {
   "cell_type": "code",
   "execution_count": 36,
   "metadata": {},
   "outputs": [
    {
     "data": {
      "text/plain": [
       "<matplotlib.collections.PathCollection at 0x7f85efbb66d0>"
      ]
     },
     "execution_count": 36,
     "metadata": {},
     "output_type": "execute_result"
    },
    {
     "data": {
      "image/png": "[encoded data removed]",
      "text/plain": [
       "<Figure size 432x288 with 1 Axes>"
      ]
     },
     "metadata": {
      "needs_background": "light"
     },
     "output_type": "display_data"
    }
   ],
   "source": [
    "plt.scatter(y_array_st[:,0],y_array_st[:,1],color='red')\n",
    "plt.scatter(y_array_sl[:,0],y_array_sl[:,1],color='blue')\n"
   ]
  },
  {
   "cell_type": "code",
   "execution_count": null,
   "metadata": {},
   "outputs": [],
   "source": [
    " "
   ]
  }
 ],
 "metadata": {
  "kernelspec": {
   "display_name": "Python 3",
   "language": "python",
   "name": "python3"
  },
  "language_info": {
   "codemirror_mode": {
    "name": "ipython",
    "version": 3
   },
   "file_extension": ".py",
   "mimetype": "text/x-python",
   "name": "python",
   "nbconvert_exporter": "python",
   "pygments_lexer": "ipython3",
   "version": "3.7.6"
  }
 },
 "nbformat": 4,
 "nbformat_minor": 4
}
